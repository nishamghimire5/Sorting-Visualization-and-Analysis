{
 "cells": [
  {
   "cell_type": "markdown",
   "metadata": {},
   "source": [
    "### __Sorting Algorithms__"
   ]
  },
  {
   "cell_type": "code",
   "execution_count": 52,
   "metadata": {},
   "outputs": [],
   "source": [
    "import numpy as np"
   ]
  },
  {
   "cell_type": "markdown",
   "metadata": {},
   "source": [
    "__Create an array of random numbers__"
   ]
  },
  {
   "cell_type": "code",
   "execution_count": 53,
   "metadata": {},
   "outputs": [],
   "source": [
    "def get_array(start, end, length):\n",
    "  return np.random.randint(start,end,(length))"
   ]
  },
  {
   "cell_type": "markdown",
   "metadata": {},
   "source": [
    "__Selection Sort__"
   ]
  },
  {
   "cell_type": "code",
   "execution_count": 54,
   "metadata": {},
   "outputs": [],
   "source": [
    "def selection_sort(arr):\n",
    "    for step in range(len(arr)):\n",
    "            min_idx = step\n",
    "\n",
    "            for i in range(step + 1, len(arr)):\n",
    "                if arr[i] < arr[min_idx]:\n",
    "                    min_idx = i\n",
    "            (arr[step], arr[min_idx]) = (arr[min_idx], arr[step])"
   ]
  },
  {
   "cell_type": "code",
   "execution_count": 55,
   "metadata": {},
   "outputs": [
    {
     "name": "stdout",
     "output_type": "stream",
     "text": [
      "Unsorted array: [15  6 37  6 30 45 42 35 28 18]\n",
      "Sorted Array: [ 6  6 15 18 28 30 35 37 42 45]\n"
     ]
    }
   ],
   "source": [
    "data = get_array(1,50,10)\n",
    "print(\"Unsorted array: {}\".format(data))\n",
    "selection_sort(data)\n",
    "print(\"Sorted Array: {}\".format(data))"
   ]
  },
  {
   "cell_type": "markdown",
   "metadata": {},
   "source": [
    "__Bubble Sort__\n"
   ]
  },
  {
   "cell_type": "code",
   "execution_count": 56,
   "metadata": {},
   "outputs": [],
   "source": [
    "def bubble_sort(arr):\n",
    "    n = len(arr)\n",
    "    for i in range(n-1):\n",
    "        for j in range(0, n-i-1):\n",
    "            if arr[j] > arr[j + 1]:\n",
    "                arr[j], arr[j + 1] = arr[j + 1], arr[j]"
   ]
  },
  {
   "cell_type": "code",
   "execution_count": 57,
   "metadata": {},
   "outputs": [
    {
     "name": "stdout",
     "output_type": "stream",
     "text": [
      "Unsorted array: [35 10 47 37 36 14  6 46 30 24]\n",
      "Sorted Array: [ 6 10 14 24 30 35 36 37 46 47]\n"
     ]
    }
   ],
   "source": [
    "data = get_array(1,50,10)\n",
    "print(\"Unsorted array: {}\".format(data))\n",
    "bubble_sort(data)\n",
    "print(\"Sorted Array: {}\".format(data))"
   ]
  },
  {
   "cell_type": "markdown",
   "metadata": {},
   "source": [
    "__Merge Sort__"
   ]
  },
  {
   "cell_type": "code",
   "execution_count": 58,
   "metadata": {},
   "outputs": [],
   "source": [
    "def merge_sort(arr):\n",
    "    if len(arr) > 1:\n",
    "        mid = len(arr)//2\n",
    "        L = arr[:mid]\n",
    "        R = arr[mid:]\n",
    "        merge_sort(L)\n",
    "        merge_sort(R)\n",
    "        i = j = k = 0\n",
    "        while i < len(L) and j < len(R):\n",
    "            if L[i] <= R[j]:\n",
    "                arr[k] = L[i]\n",
    "                i += 1\n",
    "            else:\n",
    "                arr[k] = R[j]\n",
    "                j += 1\n",
    "            k += 1\n",
    "        while i < len(L):\n",
    "            arr[k] = L[i]\n",
    "            i += 1\n",
    "            k += 1\n",
    "        while j < len(R):\n",
    "            arr[k] = R[j]\n",
    "            j += 1\n",
    "            k += 1"
   ]
  },
  {
   "cell_type": "code",
   "execution_count": 59,
   "metadata": {},
   "outputs": [
    {
     "name": "stdout",
     "output_type": "stream",
     "text": [
      "Unsorted array: [34 13 11 12  3 26  4 20 16 47]\n",
      "Sorted Array: [ 3  3  3  3  3  4  4 16 16 47]\n"
     ]
    }
   ],
   "source": [
    "data = get_array(1,50,10)\n",
    "print(\"Unsorted array: {}\".format(data))\n",
    "merge_sort(data)\n",
    "print(\"Sorted Array: {}\".format(data))"
   ]
  },
  {
   "cell_type": "markdown",
   "metadata": {},
   "source": [
    "__Insertion Sort__"
   ]
  },
  {
   "cell_type": "code",
   "execution_count": 60,
   "metadata": {},
   "outputs": [],
   "source": [
    "def insertionSort(arr):\n",
    "    for i in range(1, len(arr)):\n",
    "        key = arr[i]\n",
    "        j = i-1\n",
    "        while j >=0 and key < arr[j] :\n",
    "                arr[j+1] = arr[j]\n",
    "                j -= 1\n",
    "        arr[j+1] = key"
   ]
  },
  {
   "cell_type": "code",
   "execution_count": 61,
   "metadata": {},
   "outputs": [
    {
     "name": "stdout",
     "output_type": "stream",
     "text": [
      "Unsorted array:[26 40 35  7  5 45 16 15 25 23]\n",
      "Sorted Array: [ 5  7 15 16 23 25 26 35 40 45]\n"
     ]
    }
   ],
   "source": [
    "data=get_array(1,50,10)\n",
    "print(\"Unsorted array:{}\".format(data))\n",
    "insertionSort(data)\n",
    "print(\"Sorted Array: {}\".format(data))"
   ]
  },
  {
   "cell_type": "markdown",
   "metadata": {},
   "source": [
    "__Quick Sort__"
   ]
  },
  {
   "cell_type": "code",
   "execution_count": 62,
   "metadata": {},
   "outputs": [],
   "source": [
    "def partition(array, low, high):\n",
    "\n",
    "  pivot = array[high]\n",
    "\n",
    "  i = low - 1\n",
    "\n",
    "  for j in range(low, high):\n",
    "    if array[j] <= pivot:\n",
    "      i = i + 1\n",
    "      (array[i], array[j]) = (array[j], array[i])\n",
    "\n",
    "  (array[i + 1], array[high]) = (array[high], array[i + 1])\n",
    "  return i + 1\n",
    "\n",
    "def quickSort(array, low, high):\n",
    "  if low < high:\n",
    "    \n",
    "    pi = partition(array, low, high)\n",
    "    quickSort(array, low, pi - 1)\n",
    "    quickSort(array, pi + 1, high)\n"
   ]
  },
  {
   "cell_type": "markdown",
   "metadata": {},
   "source": [
    "__Heap Sort__"
   ]
  },
  {
   "cell_type": "code",
   "execution_count": 63,
   "metadata": {},
   "outputs": [],
   "source": [
    "def heapify(arr, n, i):\n",
    "      # Find largest among root and children\n",
    "      largest = i\n",
    "      l = 2 * i + 1\n",
    "      r = 2 * i + 2\n",
    "  \n",
    "      if l < n and arr[i] < arr[l]:\n",
    "          largest = l\n",
    "  \n",
    "      if r < n and arr[largest] < arr[r]:\n",
    "          largest = r\n",
    "  \n",
    "      # If root is not largest, swap with largest and continue heapifying\n",
    "      if largest != i:\n",
    "          arr[i], arr[largest] = arr[largest], arr[i]\n",
    "          heapify(arr, n, largest)\n",
    "  \n",
    "  "
   ]
  },
  {
   "cell_type": "code",
   "execution_count": 64,
   "metadata": {},
   "outputs": [],
   "source": [
    "def heapSort(arr):\n",
    "      n = len(arr)\n",
    "  \n",
    "      # Build max heap\n",
    "      for i in range(n//2, -1, -1):\n",
    "          heapify(arr, n, i)\n",
    "  \n",
    "      for i in range(n-1, 0, -1):\n",
    "          # Swap\n",
    "          arr[i], arr[0] = arr[0], arr[i]\n",
    "  \n",
    "          # Heapify root element"
   ]
  },
  {
   "cell_type": "code",
   "execution_count": 65,
   "metadata": {},
   "outputs": [
    {
     "name": "stdout",
     "output_type": "stream",
     "text": [
      "Unsorted array:[33  8  4  6  4 49 18 28 17  2]\n",
      "Sorted Array: [ 5  7 15 16 23 25 26 35 40 45]\n"
     ]
    }
   ],
   "source": [
    "arr= get_array(1,50,10)\n",
    "print(\"Unsorted array:{}\".format(arr))\n",
    "# n = len(arr)\n",
    "heapSort(arr)\n",
    "print(\"Sorted Array: {}\".format(data))\n"
   ]
  }
 ],
 "metadata": {
  "kernelspec": {
   "display_name": "Python 3.9.13 ('base')",
   "language": "python",
   "name": "python3"
  },
  "language_info": {
   "codemirror_mode": {
    "name": "ipython",
    "version": 3
   },
   "file_extension": ".py",
   "mimetype": "text/x-python",
   "name": "python",
   "nbconvert_exporter": "python",
   "pygments_lexer": "ipython3",
   "version": "3.9.13"
  },
  "orig_nbformat": 4,
  "vscode": {
   "interpreter": {
    "hash": "f2eabf35eef2927632f8de320ea0d15a5ebea45205747895a4dd98f9d74dd1bd"
   }
  }
 },
 "nbformat": 4,
 "nbformat_minor": 2
}
