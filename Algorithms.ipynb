{
 "cells": [
  {
   "cell_type": "markdown",
   "metadata": {},
   "source": [
    "### __Sorting Algorithms__"
   ]
  },
  {
   "cell_type": "code",
   "execution_count": 109,
   "metadata": {},
   "outputs": [],
   "source": [
    "import numpy as np"
   ]
  },
  {
   "cell_type": "markdown",
   "metadata": {},
   "source": [
    "__Create an array of random numbers__"
   ]
  },
  {
   "cell_type": "code",
   "execution_count": 110,
   "metadata": {},
   "outputs": [],
   "source": [
    "def get_array(start, end, length):\n",
    "  return np.random.randint(start,end,(length))"
   ]
  },
  {
   "cell_type": "markdown",
   "metadata": {},
   "source": [
    "__Selection Sort__"
   ]
  },
  {
   "cell_type": "code",
   "execution_count": 111,
   "metadata": {},
   "outputs": [],
   "source": [
    "def selection_sort(arr):\n",
    "    for step in range(len(arr)):\n",
    "            min_idx = step\n",
    "\n",
    "            for i in range(step + 1, len(arr)):\n",
    "                if arr[i] < arr[min_idx]:\n",
    "                    min_idx = i\n",
    "            (arr[step], arr[min_idx]) = (arr[min_idx], arr[step])"
   ]
  },
  {
   "cell_type": "code",
   "execution_count": 112,
   "metadata": {},
   "outputs": [
    {
     "name": "stdout",
     "output_type": "stream",
     "text": [
      "Unsorted array: [14 41  7  3 44 10 36  2 34 18]\n",
      "Sorted Array: [ 2  3  7 10 14 18 34 36 41 44]\n"
     ]
    }
   ],
   "source": [
    "data = get_array(1,50,10)\n",
    "print(\"Unsorted array: {}\".format(data))\n",
    "selection_sort(data)\n",
    "print(\"Sorted Array: {}\".format(data))"
   ]
  },
  {
   "cell_type": "markdown",
   "metadata": {},
   "source": [
    "__Bubble Sort__\n"
   ]
  },
  {
   "cell_type": "code",
   "execution_count": 113,
   "metadata": {},
   "outputs": [],
   "source": [
    "def bubble_sort(arr):\n",
    "    n = len(arr)\n",
    "    for i in range(n-1):\n",
    "        for j in range(0, n-i-1):\n",
    "            if arr[j] > arr[j + 1]:\n",
    "                arr[j], arr[j + 1] = arr[j + 1], arr[j]"
   ]
  },
  {
   "cell_type": "code",
   "execution_count": 114,
   "metadata": {},
   "outputs": [
    {
     "name": "stdout",
     "output_type": "stream",
     "text": [
      "Unsorted array: [27 47 18 20  5 24 37 48 10 10]\n",
      "Sorted Array: [ 5 10 10 18 20 24 27 37 47 48]\n"
     ]
    }
   ],
   "source": [
    "data = get_array(1,50,10)\n",
    "print(\"Unsorted array: {}\".format(data))\n",
    "bubble_sort(data)\n",
    "print(\"Sorted Array: {}\".format(data))"
   ]
  },
  {
   "cell_type": "markdown",
   "metadata": {},
   "source": [
    "__Merge Sort__"
   ]
  },
  {
   "cell_type": "code",
   "execution_count": 115,
   "metadata": {},
   "outputs": [],
   "source": [
    "def merge_sort(arr):\n",
    "    if len(arr) > 1:\n",
    "        mid = len(arr)//2\n",
    "        L = arr[:mid]\n",
    "        R = arr[mid:]\n",
    "        merge_sort(L)\n",
    "        merge_sort(R)\n",
    "        i = j = k = 0\n",
    "        while i < len(L) and j < len(R):\n",
    "            if L[i] <= R[j]:\n",
    "                arr[k] = L[i]\n",
    "                i += 1\n",
    "            else:\n",
    "                arr[k] = R[j]\n",
    "                j += 1\n",
    "            k += 1\n",
    "        while i < len(L):\n",
    "            arr[k] = L[i]\n",
    "            i += 1\n",
    "            k += 1\n",
    "        while j < len(R):\n",
    "            arr[k] = R[j]\n",
    "            j += 1\n",
    "            k += 1"
   ]
  },
  {
   "cell_type": "code",
   "execution_count": 116,
   "metadata": {},
   "outputs": [
    {
     "name": "stdout",
     "output_type": "stream",
     "text": [
      "Unsorted array: [28 38 21  8 40  6 37 17 16  8]\n",
      "Sorted Array: [6 6 6 6 6 6 8 8 8 8]\n"
     ]
    }
   ],
   "source": [
    "data = get_array(1,50,10)\n",
    "print(\"Unsorted array: {}\".format(data))\n",
    "merge_sort(data)\n",
    "print(\"Sorted Array: {}\".format(data))"
   ]
  },
  {
   "cell_type": "markdown",
   "metadata": {},
   "source": [
    "__Insertion Sort__"
   ]
  },
  {
   "cell_type": "code",
   "execution_count": 117,
   "metadata": {},
   "outputs": [],
   "source": [
    "def insertionSort(arr):\n",
    "    for i in range(1, len(arr)):\n",
    "        key = arr[i]\n",
    "        j = i-1\n",
    "        while j >=0 and key < arr[j] :\n",
    "                arr[j+1] = arr[j]\n",
    "                j -= 1\n",
    "        arr[j+1] = key"
   ]
  },
  {
   "cell_type": "code",
   "execution_count": 118,
   "metadata": {},
   "outputs": [
    {
     "name": "stdout",
     "output_type": "stream",
     "text": [
      "Unsorted array:[47 24 17 10 41 26 23  1 34 14]\n",
      "Sorted Array: [ 1 10 14 17 23 24 26 34 41 47]\n"
     ]
    }
   ],
   "source": [
    "data=get_array(1,50,10)\n",
    "print(\"Unsorted array:{}\".format(data))\n",
    "insertionSort(data)\n",
    "print(\"Sorted Array: {}\".format(data))"
   ]
  },
  {
   "cell_type": "markdown",
   "metadata": {},
   "source": [
    "__Quick Sort__"
   ]
  },
  {
   "cell_type": "code",
   "execution_count": 119,
   "metadata": {},
   "outputs": [],
   "source": [
    "def partition(array, low, high):\n",
    "\n",
    "  pivot = array[high]\n",
    "\n",
    "  i = low - 1\n",
    "\n",
    "  for j in range(low, high):\n",
    "    if array[j] <= pivot:\n",
    "      i = i + 1\n",
    "      (array[i], array[j]) = (array[j], array[i])\n",
    "\n",
    "  (array[i + 1], array[high]) = (array[high], array[i + 1])\n",
    "  return i + 1\n",
    "\n",
    "def quickSort(array, low, high):\n",
    "  if low < high:\n",
    "    \n",
    "    pi = partition(array, low, high)\n",
    "    quickSort(array, low, pi - 1)\n",
    "    quickSort(array, pi + 1, high)\n"
   ]
  },
  {
   "cell_type": "markdown",
   "metadata": {},
   "source": [
    "__Heap Sort__"
   ]
  },
  {
   "cell_type": "code",
   "execution_count": 120,
   "metadata": {},
   "outputs": [],
   "source": [
    "def heapify(arr, N, i):\n",
    "    largest = i  # Initialize largest as root\n",
    "    l = 2 * i + 1     # left = 2*i + 1\n",
    "    r = 2 * i + 2     \n",
    " \n",
    "  \n",
    "    if l < N and arr[largest] < arr[l]:\n",
    "        largest = l\n",
    " \n",
    "    if r < N and arr[largest] < arr[r]:\n",
    "        largest = r\n",
    " \n",
    "    if largest != i:\n",
    "        arr[i], arr[largest] = arr[largest], arr[i]  # swap\n",
    " \n",
    "        heapify(arr, N, largest)\n",
    "  \n",
    "  "
   ]
  },
  {
   "cell_type": "code",
   "execution_count": 121,
   "metadata": {},
   "outputs": [],
   "source": [
    "def heapSort(arr):\n",
    "    N = len(arr)\n",
    "\n",
    "    for i in range(N//2 - 1, -1, -1):\n",
    "        heapify(arr, N, i)\n",
    " \n",
    "    for i in range(N-1, 0, -1):\n",
    "        arr[i], arr[0] = arr[0], arr[i]  \n",
    "        heapify(arr, i, 0)\n",
    " "
   ]
  },
  {
   "cell_type": "code",
   "execution_count": 122,
   "metadata": {},
   "outputs": [
    {
     "name": "stdout",
     "output_type": "stream",
     "text": [
      "Unsorted array:[38 39 17 36  4 19  8 40 31 30]\n",
      "Sorted Array: [ 4  8 17 19 30 31 36 38 39 40]\n"
     ]
    }
   ],
   "source": [
    "data= get_array(1,50,10)\n",
    "print(\"Unsorted array:{}\".format(data))\n",
    "# n = len(arr)\n",
    "heapSort(data)\n",
    "print(\"Sorted Array: {}\".format(data))\n"
   ]
  }
 ],
 "metadata": {
  "kernelspec": {
   "display_name": "Python 3.9.13 ('base')",
   "language": "python",
   "name": "python3"
  },
  "language_info": {
   "codemirror_mode": {
    "name": "ipython",
    "version": 3
   },
   "file_extension": ".py",
   "mimetype": "text/x-python",
   "name": "python",
   "nbconvert_exporter": "python",
   "pygments_lexer": "ipython3",
   "version": "3.9.13"
  },
  "orig_nbformat": 4,
  "vscode": {
   "interpreter": {
    "hash": "f2eabf35eef2927632f8de320ea0d15a5ebea45205747895a4dd98f9d74dd1bd"
   }
  }
 },
 "nbformat": 4,
 "nbformat_minor": 2
}
