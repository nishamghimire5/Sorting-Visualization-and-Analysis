{
 "cells": [
  {
   "cell_type": "markdown",
   "metadata": {},
   "source": [
    "### __Sorting Algorithms__"
   ]
  },
  {
   "cell_type": "code",
   "execution_count": 12,
   "metadata": {},
   "outputs": [],
   "source": [
    "import numpy as np"
   ]
  },
  {
   "cell_type": "markdown",
   "metadata": {},
   "source": [
    "__Create an array of random numbers__"
   ]
  },
  {
   "cell_type": "code",
   "execution_count": 13,
   "metadata": {},
   "outputs": [],
   "source": [
    "def get_array(start, end, length):\n",
    "  return np.random.randint(start,end,(length))"
   ]
  },
  {
   "cell_type": "markdown",
   "metadata": {},
   "source": [
    "__Selection Sort__"
   ]
  },
  {
   "cell_type": "code",
   "execution_count": 14,
   "metadata": {},
   "outputs": [],
   "source": [
    "def selection_sort(arr):\n",
    "    for step in range(len(arr)):\n",
    "            min_idx = step\n",
    "\n",
    "            for i in range(step + 1, len(arr)):\n",
    "                if arr[i] < arr[min_idx]:\n",
    "                    min_idx = i\n",
    "            (arr[step], arr[min_idx]) = (arr[min_idx], arr[step])"
   ]
  },
  {
   "cell_type": "code",
   "execution_count": 15,
   "metadata": {},
   "outputs": [
    {
     "name": "stdout",
     "output_type": "stream",
     "text": [
      "Unsorted array: [26 18 27 33  5  6  4 38  9 32]\n",
      "Sorted Array: [ 4  5  6  9 18 26 27 32 33 38]\n"
     ]
    }
   ],
   "source": [
    "data = get_array(1,50,10)\n",
    "print(\"Unsorted array: {}\".format(data))\n",
    "selection_sort(data)\n",
    "print(\"Sorted Array: {}\".format(data))"
   ]
  },
  {
   "cell_type": "markdown",
   "metadata": {},
   "source": [
    "__Bubble Sort__\n"
   ]
  },
  {
   "cell_type": "code",
   "execution_count": 16,
   "metadata": {},
   "outputs": [],
   "source": [
    "def bubble_sort(arr):\n",
    "    n = len(arr)\n",
    "    for i in range(n-1):\n",
    "        for j in range(0, n-i-1):\n",
    "            if arr[j] > arr[j + 1]:\n",
    "                arr[j], arr[j + 1] = arr[j + 1], arr[j]"
   ]
  },
  {
   "cell_type": "code",
   "execution_count": 17,
   "metadata": {},
   "outputs": [
    {
     "name": "stdout",
     "output_type": "stream",
     "text": [
      "Unsorted array: [21 13 43 14 25 15  8 11 45 10]\n",
      "Sorted Array: [ 8 10 11 13 14 15 21 25 43 45]\n"
     ]
    }
   ],
   "source": [
    "data = get_array(1,50,10)\n",
    "print(\"Unsorted array: {}\".format(data))\n",
    "bubble_sort(data)\n",
    "print(\"Sorted Array: {}\".format(data))"
   ]
  },
  {
   "cell_type": "markdown",
   "metadata": {},
   "source": [
    "__Merge Sort__"
   ]
  },
  {
   "cell_type": "code",
   "execution_count": 18,
   "metadata": {},
   "outputs": [],
   "source": [
    "def merge_sort(arr):\n",
    "    if len(arr) > 1:\n",
    "        mid = len(arr)//2\n",
    "        L = arr[:mid]\n",
    "        R = arr[mid:]\n",
    "        merge_sort(L)\n",
    "        merge_sort(R)\n",
    "        i = j = k = 0\n",
    "        while i < len(L) and j < len(R):\n",
    "            if L[i] <= R[j]:\n",
    "                arr[k] = L[i]\n",
    "                i += 1\n",
    "            else:\n",
    "                arr[k] = R[j]\n",
    "                j += 1\n",
    "            k += 1\n",
    "        while i < len(L):\n",
    "            arr[k] = L[i]\n",
    "            i += 1\n",
    "            k += 1\n",
    "        while j < len(R):\n",
    "            arr[k] = R[j]\n",
    "            j += 1\n",
    "            k += 1"
   ]
  },
  {
   "cell_type": "code",
   "execution_count": 19,
   "metadata": {},
   "outputs": [
    {
     "name": "stdout",
     "output_type": "stream",
     "text": [
      "Unsorted array: [18 28  9  1 39 13 23 34 22 23]\n",
      "Sorted Array: [ 1  1  1  1 13 13 22 22 22 23]\n"
     ]
    }
   ],
   "source": [
    "data = get_array(1,50,10)\n",
    "print(\"Unsorted array: {}\".format(data))\n",
    "merge_sort(data)\n",
    "print(\"Sorted Array: {}\".format(data))"
   ]
  },
  {
   "cell_type": "markdown",
   "metadata": {},
   "source": [
    "__Insertion Sort__"
   ]
  },
  {
   "cell_type": "code",
   "execution_count": 20,
   "metadata": {},
   "outputs": [],
   "source": [
    "def insertionSort(arr):\n",
    "    for i in range(1, len(arr)):\n",
    "        key = arr[i]\n",
    "        j = i-1\n",
    "        while j >=0 and key < arr[j] :\n",
    "                arr[j+1] = arr[j]\n",
    "                j -= 1\n",
    "        arr[j+1] = key"
   ]
  },
  {
   "cell_type": "code",
   "execution_count": 21,
   "metadata": {},
   "outputs": [
    {
     "name": "stdout",
     "output_type": "stream",
     "text": [
      "Unsorted array:[ 7 26 15 27  7 38 40  7 48 49]\n",
      "Sorted Array: [ 7  7  7 15 26 27 38 40 48 49]\n"
     ]
    }
   ],
   "source": [
    "data=get_array(1,50,10)\n",
    "print(\"Unsorted array:{}\".format(data))\n",
    "insertionSort(data)\n",
    "print(\"Sorted Array: {}\".format(data))"
   ]
  },
  {
   "cell_type": "markdown",
   "metadata": {},
   "source": [
    "__Quick Sort__"
   ]
  },
  {
   "cell_type": "code",
   "execution_count": 22,
   "metadata": {},
   "outputs": [],
   "source": [
    "def partition(array, low, high):\n",
    "\n",
    "  pivot = array[high]\n",
    "\n",
    "  i = low - 1\n",
    "\n",
    "  for j in range(low, high):\n",
    "    if array[j] <= pivot:\n",
    "      i = i + 1\n",
    "      (array[i], array[j]) = (array[j], array[i])\n",
    "\n",
    "  (array[i + 1], array[high]) = (array[high], array[i + 1])\n",
    "  return i + 1\n",
    "\n",
    "def quickSort(array, low, high):\n",
    "  if low < high:\n",
    "    \n",
    "    pi = partition(array, low, high)\n",
    "    quickSort(array, low, pi - 1)\n",
    "    quickSort(array, pi + 1, high)\n"
   ]
  },
  {
   "cell_type": "markdown",
   "metadata": {},
   "source": [
    "__Heap Sort__"
   ]
  },
  {
   "cell_type": "code",
   "execution_count": 23,
   "metadata": {},
   "outputs": [],
   "source": [
    "def heapify(arr, n, i):\n",
    "      # Find largest among root and children\n",
    "      largest = i\n",
    "      l = 2 * i + 1\n",
    "      r = 2 * i + 2\n",
    "  \n",
    "      if l < n and arr[i] < arr[l]:\n",
    "          largest = l\n",
    "  \n",
    "      if r < n and arr[largest] < arr[r]:\n",
    "          largest = r\n",
    "  \n",
    "      # If root is not largest, swap with largest and continue heapifying\n",
    "      if largest != i:\n",
    "          arr[i], arr[largest] = arr[largest], arr[i]\n",
    "          heapify(arr, n, largest)\n",
    "  \n",
    "  "
   ]
  },
  {
   "cell_type": "code",
   "execution_count": 24,
   "metadata": {},
   "outputs": [],
   "source": [
    "def heapSort(arr):\n",
    "      n = len(arr)\n",
    "  \n",
    "      # Build max heap\n",
    "      for i in range(n//2, -1, -1):\n",
    "          heapify(arr, n, i)\n",
    "  \n",
    "      for i in range(n-1, 0, -1):\n",
    "          # Swap\n",
    "          arr[i], arr[0] = arr[0], arr[i]\n",
    "  \n",
    "          # Heapify root element"
   ]
  },
  {
   "cell_type": "code",
   "execution_count": 25,
   "metadata": {},
   "outputs": [
    {
     "name": "stdout",
     "output_type": "stream",
     "text": [
      "Unsorted array:[19 39  9  8 13 15  4 40 31 13]\n",
      "Sorted Array: [ 7  7  7 15 26 27 38 40 48 49]\n"
     ]
    }
   ],
   "source": [
    "arr= get_array(1,50,10)\n",
    "print(\"Unsorted array:{}\".format(arr))\n",
    "# n = len(arr)\n",
    "heapSort(arr)\n",
    "print(\"Sorted Array: {}\".format(data))\n"
   ]
  }
 ],
 "metadata": {
  "kernelspec": {
   "display_name": "Python 3.9.13 ('base')",
   "language": "python",
   "name": "python3"
  },
  "language_info": {
   "codemirror_mode": {
    "name": "ipython",
    "version": 3
   },
   "file_extension": ".py",
   "mimetype": "text/x-python",
   "name": "python",
   "nbconvert_exporter": "python",
   "pygments_lexer": "ipython3",
   "version": "3.9.13"
  },
  "orig_nbformat": 4,
  "vscode": {
   "interpreter": {
    "hash": "f2eabf35eef2927632f8de320ea0d15a5ebea45205747895a4dd98f9d74dd1bd"
   }
  }
 },
 "nbformat": 4,
 "nbformat_minor": 2
}
