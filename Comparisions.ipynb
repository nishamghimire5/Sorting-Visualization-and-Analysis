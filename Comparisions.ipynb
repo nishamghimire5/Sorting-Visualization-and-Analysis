{
 "cells": [
  {
   "cell_type": "markdown",
   "metadata": {},
   "source": [
    "### __Comparting Sorting Algorithms__"
   ]
  },
  {
   "cell_type": "markdown",
   "metadata": {},
   "source": [
    "__Import Modules__"
   ]
  },
  {
   "cell_type": "code",
   "execution_count": null,
   "metadata": {},
   "outputs": [],
   "source": [
    "import time\n",
    "import import_ipynb\n",
    "from statistics import mean\n",
    "from Algorithms import *\n",
    "import matplotlib.pyplot as plt\n",
    "import pandas as pd\n",
    "from tqdm import tqdm"
   ]
  },
  {
   "cell_type": "markdown",
   "metadata": {},
   "source": [
    "__Create Pandas dataframe to store time taken to sort arrays of different sizes by different algorithms__ "
   ]
  },
  {
   "cell_type": "code",
   "execution_count": null,
   "metadata": {},
   "outputs": [],
   "source": [
    "data = {\n",
    "  \"Input Size\": [],\n",
    "  \"Merge Sort\":[],\n",
    "  \"Selection Sort\":[],\n",
    "  \"Bubble Sort\":[],\n",
    "  \"Insertion Sort\":[],\n",
    "  \"Quick Sort\":[],\n",
    "  \"Heap Sort\":[]\n",
    "}\n",
    "\n",
    "input_size = [x for x in range(0,3200,200)]\n",
    "df = pd.DataFrame(data)\n",
    "\n",
    "df[\"Input Size\"] = input_size"
   ]
  },
  {
   "cell_type": "markdown",
   "metadata": {},
   "source": [
    "__Data collection for Merge Sort__"
   ]
  },
  {
   "cell_type": "code",
   "execution_count": null,
   "metadata": {},
   "outputs": [],
   "source": [
    "times = []\n",
    "temp = []\n",
    "for i in tqdm(input_size, desc = 'Sorting in progress'):\n",
    "  for recheck in range(10): #Check each different sized array 10 times for consistency\n",
    "    start = time.time()\n",
    "    data = get_array(1,5000,i)\n",
    "    merge_sort(data)\n",
    "    end = time.time()\n",
    "    temp.append(end-start)\n",
    "  times.append(mean(temp))\n",
    "  temp = []\n",
    "df[\"Merge Sort\"] = times"
   ]
  },
  {
   "cell_type": "markdown",
   "metadata": {},
   "source": [
    "__Data collection for Bubble sort__"
   ]
  },
  {
   "cell_type": "code",
   "execution_count": null,
   "metadata": {},
   "outputs": [],
   "source": [
    "times = []\n",
    "temp = []\n",
    "for i in tqdm(input_size, desc = 'Sorting in progress'):\n",
    "  for recheck in range(10): #Check each different sized array 10 times for consistency\n",
    "    start = time.time()\n",
    "    data = get_array(1,5000,i)\n",
    "    bubble_sort(data)\n",
    "    end = time.time()\n",
    "    temp.append(end-start)\n",
    "  times.append(mean(temp))\n",
    "  temp = []\n",
    "df[\"Bubble Sort\"] = times"
   ]
  },
  {
   "cell_type": "markdown",
   "metadata": {},
   "source": [
    "__Data collection for Selection Sort__"
   ]
  },
  {
   "cell_type": "code",
   "execution_count": null,
   "metadata": {},
   "outputs": [],
   "source": [
    "times = []\n",
    "temp = []\n",
    "for i in tqdm(input_size, desc = 'Sorting in progress'):\n",
    "  for recheck in range(10): #Check each different sized array 10 times for consistency\n",
    "    start = time.time()\n",
    "    data = get_array(1,5000,i)\n",
    "    selection_sort(data)\n",
    "    end = time.time()\n",
    "    temp.append(end-start)\n",
    "  times.append(mean(temp))\n",
    "  temp = []\n",
    "df[\"Selection Sort\"] = times"
   ]
  },
  {
   "cell_type": "markdown",
   "metadata": {},
   "source": [
    "__Data Collection for Insertion Sort__"
   ]
  },
  {
   "cell_type": "code",
   "execution_count": null,
   "metadata": {},
   "outputs": [],
   "source": [
    "times = []\n",
    "temp = []\n",
    "for i in tqdm(input_size, desc = 'Sorting in progress'):\n",
    "  for recheck in range(10): #Check each different sized array 10 times for consistency\n",
    "    start = time.time()\n",
    "    data = get_array(1,5000,i)\n",
    "    insertionSort(data)\n",
    "    end = time.time()\n",
    "    temp.append(end-start)\n",
    "  times.append(mean(temp))\n",
    "  temp = []\n",
    "df[\"Insertion Sort\"] = times"
   ]
  },
  {
   "cell_type": "markdown",
   "metadata": {},
   "source": [
    "__Data Collection for Heap Sort__"
   ]
  },
  {
   "cell_type": "code",
   "execution_count": null,
   "metadata": {},
   "outputs": [],
   "source": [
    "times = []\n",
    "temp = []\n",
    "for i in tqdm(input_size, desc = 'Sorting in progress'):\n",
    "  for recheck in range(10): #Check each different sized array 10 times for consistency\n",
    "    start = time.time()\n",
    "    data = get_array(1,5000,i)\n",
    "    heapSort(data)\n",
    "    end = time.time()\n",
    "    temp.append(end-start)\n",
    "  times.append(mean(temp))\n",
    "  temp = []\n",
    "df[\"Heap Sort\"] = times"
   ]
  },
  {
   "cell_type": "markdown",
   "metadata": {},
   "source": [
    "__Save as CSV and plot__"
   ]
  },
  {
   "cell_type": "code",
   "execution_count": null,
   "metadata": {},
   "outputs": [],
   "source": [
    "df.to_csv('data.csv', index=False)\n",
    "df.plot(x = \"Input Size\", y = \"Merge Sort\", kind=\"line\")\n",
    "df.plot(x = \"Input Size\", y = \"Selection Sort\", kind=\"line\")\n",
    "df.plot(x = \"Input Size\", y = \"Heap Sort\", kind=\"line\")\n",
    "plt.show()"
   ]
  }
 ],
 "metadata": {
  "kernelspec": {
   "display_name": "Python 3.9.13 ('base')",
   "language": "python",
   "name": "python3"
  },
  "language_info": {
   "codemirror_mode": {
    "name": "ipython",
    "version": 3
   },
   "file_extension": ".py",
   "mimetype": "text/x-python",
   "name": "python",
   "nbconvert_exporter": "python",
   "pygments_lexer": "ipython3",
   "version": "3.9.13"
  },
  "orig_nbformat": 4,
  "vscode": {
   "interpreter": {
    "hash": "f2eabf35eef2927632f8de320ea0d15a5ebea45205747895a4dd98f9d74dd1bd"
   }
  }
 },
 "nbformat": 4,
 "nbformat_minor": 2
}
