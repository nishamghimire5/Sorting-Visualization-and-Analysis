{
 "cells": [
  {
   "cell_type": "markdown",
   "metadata": {},
   "source": [
    "### __Comparting Sorting Algorithms__"
   ]
  },
  {
   "cell_type": "markdown",
   "metadata": {},
   "source": [
    "__Import Modules__"
   ]
  },
  {
   "cell_type": "code",
   "execution_count": 6,
   "metadata": {},
   "outputs": [],
   "source": [
    "import time\n",
    "import import_ipynb\n",
    "from statistics import mean\n",
    "from Algorithms import *\n",
    "import matplotlib.pyplot as plt\n",
    "import pandas as pd\n",
    "from tqdm import tqdm"
   ]
  },
  {
   "cell_type": "markdown",
   "metadata": {},
   "source": [
    "__Create Pandas dataframe to store time taken to sort arrays of different sizes by different algorithms__ "
   ]
  },
  {
   "cell_type": "code",
   "execution_count": 7,
   "metadata": {},
   "outputs": [],
   "source": [
    "data = {\n",
    "  \"Input Size\": [],\n",
    "  \"Merge Sort\":[],\n",
    "  \"Selection Sort\":[],\n",
    "  \"Bubble Sort\":[],\n",
    "  \"Insertion Sort\":[],\n",
    "  \"Quick Sort\":[],\n",
    "  \"Heap Sort\":[]\n",
    "}\n",
    "\n",
    "input_size = [x for x in range(0,3200,200)]\n",
    "df = pd.DataFrame(data)\n",
    "\n",
    "df[\"Input Size\"] = input_size"
   ]
  },
  {
   "cell_type": "markdown",
   "metadata": {},
   "source": [
    "__Data collection for Merge Sort__"
   ]
  },
  {
   "cell_type": "code",
   "execution_count": 52,
   "metadata": {},
   "outputs": [
    {
     "name": "stderr",
     "output_type": "stream",
     "text": [
      "Sorting in progress: 100%|██████████| 16/16 [00:05<00:00,  2.88it/s]\n"
     ]
    }
   ],
   "source": [
    "times = []\n",
    "temp = []\n",
    "for i in tqdm(input_size, desc = 'Sorting in progress'):\n",
    "  for recheck in range(50): #Check each different sized array 10 times for consistency\n",
    "    start = time.time()\n",
    "    data = get_array(1,5000,i)\n",
    "    merge_sort(data)\n",
    "    end = time.time()\n",
    "    temp.append(end-start)\n",
    "  times.append(mean(temp))\n",
    "  temp = []\n",
    "df[\"Merge Sort\"] = times"
   ]
  },
  {
   "cell_type": "markdown",
   "metadata": {},
   "source": [
    "__Data collection for Bubble sort__"
   ]
  },
  {
   "cell_type": "code",
   "execution_count": 18,
   "metadata": {},
   "outputs": [
    {
     "name": "stderr",
     "output_type": "stream",
     "text": [
      "Sorting in progress: 100%|██████████| 16/16 [01:24<00:00,  5.26s/it]\n"
     ]
    }
   ],
   "source": [
    "times = []\n",
    "temp = []\n",
    "for i in tqdm(input_size, desc = 'Sorting in progress'):\n",
    "  for recheck in range(10): #Check each different sized array 10 times for consistency\n",
    "    start = time.time()\n",
    "    data = get_array(1,5000,i)\n",
    "    bubble_sort(data)\n",
    "    end = time.time()\n",
    "    temp.append(end-start)\n",
    "  times.append(mean(temp))\n",
    "  temp = []\n",
    "df[\"Bubble Sort\"] = times"
   ]
  },
  {
   "cell_type": "markdown",
   "metadata": {},
   "source": [
    "__Data collection for Selection Sort__"
   ]
  },
  {
   "cell_type": "code",
   "execution_count": 16,
   "metadata": {},
   "outputs": [
    {
     "name": "stderr",
     "output_type": "stream",
     "text": [
      "Sorting in progress: 100%|██████████| 16/16 [00:44<00:00,  2.79s/it]\n"
     ]
    }
   ],
   "source": [
    "times = []\n",
    "temp = []\n",
    "for i in tqdm(input_size, desc = 'Sorting in progress'):\n",
    "  for recheck in range(10): #Check each different sized array 10 times for consistency\n",
    "    start = time.time()\n",
    "    data = get_array(1,5000,i)\n",
    "    selection_sort(data)\n",
    "    end = time.time()\n",
    "    temp.append(end-start)\n",
    "  times.append(mean(temp))\n",
    "  temp = []\n",
    "df[\"Selection Sort\"] = times"
   ]
  },
  {
   "cell_type": "markdown",
   "metadata": {},
   "source": [
    "__Data Collection for Insertion Sort__"
   ]
  },
  {
   "cell_type": "code",
   "execution_count": 20,
   "metadata": {},
   "outputs": [
    {
     "name": "stderr",
     "output_type": "stream",
     "text": [
      "Sorting in progress: 100%|██████████| 16/16 [00:37<00:00,  2.37s/it]\n"
     ]
    }
   ],
   "source": [
    "times = []\n",
    "temp = []\n",
    "for i in tqdm(input_size, desc = 'Sorting in progress'):\n",
    "  for recheck in range(10): #Check each different sized array 10 times for consistency\n",
    "    start = time.time()\n",
    "    data = get_array(1,5000,i)\n",
    "    insertionSort(data)\n",
    "    end = time.time()\n",
    "    temp.append(end-start)\n",
    "  times.append(mean(temp))\n",
    "  temp = []\n",
    "df[\"Insertion Sort\"] = times"
   ]
  },
  {
   "cell_type": "markdown",
   "metadata": {},
   "source": [
    "__Data Collection for Quick Sort__"
   ]
  },
  {
   "cell_type": "code",
   "execution_count": 48,
   "metadata": {},
   "outputs": [
    {
     "name": "stderr",
     "output_type": "stream",
     "text": [
      "Sorting in progress: 100%|██████████| 16/16 [00:03<00:00,  4.47it/s]\n"
     ]
    }
   ],
   "source": [
    "times = []\n",
    "temp = []\n",
    "for i in tqdm(input_size, desc = 'Sorting in progress'):\n",
    "  for recheck in range(40): #Check each different sized array 10 times for consistency\n",
    "    start = time.time()\n",
    "    data = get_array(1,5000,i)\n",
    "    quickSort(data, 0, len(data) - 1)\n",
    "    end = time.time()\n",
    "    temp.append(end-start)\n",
    "  times.append(mean(temp))\n",
    "  temp = []\n",
    "df[\"Quick Sort\"] = times"
   ]
  },
  {
   "cell_type": "markdown",
   "metadata": {},
   "source": [
    "__Data Collection for Heap Sort__"
   ]
  },
  {
   "cell_type": "code",
   "execution_count": 43,
   "metadata": {},
   "outputs": [
    {
     "name": "stderr",
     "output_type": "stream",
     "text": [
      "Sorting in progress: 100%|██████████| 16/16 [00:06<00:00,  2.66it/s]\n"
     ]
    }
   ],
   "source": [
    "times = []\n",
    "temp = []\n",
    "for i in tqdm(input_size, desc = 'Sorting in progress'):\n",
    "  for recheck in range(30): #Check each different sized array 10 times for consistency\n",
    "    start = time.time()\n",
    "    data = get_array(1,5000,i)\n",
    "    heapSort(data)\n",
    "    end = time.time()\n",
    "    temp.append(end-start)\n",
    "  times.append(mean(temp))\n",
    "  temp = []\n",
    "df[\"Heap Sort\"] = times"
   ]
  },
  {
   "cell_type": "markdown",
   "metadata": {},
   "source": [
    "__Save as CSV__"
   ]
  },
  {
   "cell_type": "code",
   "execution_count": 53,
   "metadata": {},
   "outputs": [],
   "source": [
    "df.to_csv('data.csv', index=False)"
   ]
  }
 ],
 "metadata": {
  "kernelspec": {
   "display_name": "Python 3.9.13 ('base')",
   "language": "python",
   "name": "python3"
  },
  "language_info": {
   "codemirror_mode": {
    "name": "ipython",
    "version": 3
   },
   "file_extension": ".py",
   "mimetype": "text/x-python",
   "name": "python",
   "nbconvert_exporter": "python",
   "pygments_lexer": "ipython3",
   "version": "3.9.13"
  },
  "orig_nbformat": 4,
  "vscode": {
   "interpreter": {
    "hash": "49cb93f377a7abe7414b7b0f21fb3017538004a126cf690fb524202736b7fb92"
   }
  }
 },
 "nbformat": 4,
 "nbformat_minor": 2
}
